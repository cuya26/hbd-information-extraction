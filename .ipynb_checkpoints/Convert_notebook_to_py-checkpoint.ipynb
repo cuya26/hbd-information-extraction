{
 "cells": [
  {
   "cell_type": "code",
   "execution_count": 78,
   "metadata": {},
   "outputs": [],
   "source": [
    "# This script converts a jupyter notebook (.json file) to a .py file\n",
    "import json\n",
    "\n",
    "notebook_name = 'my_utility.ipynb'\n",
    "py_name = 'my_utility.py'\n",
    "\n",
    "# Load the JSON data\n",
    "with open(notebook_name) as f:\n",
    "    data = json.load(f)\n",
    "\n",
    "# Extract the source code from the \"cells\" field\n",
    "source_code = ''\n",
    "for cell in data['cells']:\n",
    "    if cell['cell_type'] == 'code':\n",
    "        source_code += ''.join(cell['source'])+'\\n\\n'\n",
    "\n",
    "# Write the source code to a .py file\n",
    "with open(py_name, 'w') as f:\n",
    "    f.write(source_code)"
   ]
  },
  {
   "cell_type": "code",
   "execution_count": null,
   "metadata": {},
   "outputs": [],
   "source": []
  }
 ],
 "metadata": {
  "kernelspec": {
   "display_name": "Python 3 (ipykernel)",
   "language": "python",
   "name": "python3"
  },
  "language_info": {
   "codemirror_mode": {
    "name": "ipython",
    "version": 3
   },
   "file_extension": ".py",
   "mimetype": "text/x-python",
   "name": "python",
   "nbconvert_exporter": "python",
   "pygments_lexer": "ipython3",
   "version": "3.10.8"
  }
 },
 "nbformat": 4,
 "nbformat_minor": 2
}
