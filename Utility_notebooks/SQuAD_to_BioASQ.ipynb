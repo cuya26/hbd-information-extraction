{
 "cells": [
  {
   "cell_type": "markdown",
   "metadata": {},
   "source": [
    "This script converts from SQuAD format to BioASQ"
   ]
  },
  {
   "cell_type": "code",
   "execution_count": 1,
   "metadata": {},
   "outputs": [],
   "source": [
    "# Import libraries\n",
    "import json"
   ]
  },
  {
   "cell_type": "code",
   "execution_count": 2,
   "metadata": {},
   "outputs": [],
   "source": [
    "basepath = '/home/claudio/ClaudioCrema_stuff/HBD/Data/squad-it-master/' # Specify your path\n",
    "file = 'SQuAD_it-train.json' "
   ]
  },
  {
   "cell_type": "code",
   "execution_count": 3,
   "metadata": {},
   "outputs": [],
   "source": [
    "# Read SQuAD dataset\n",
    "with open(basepath+file) as f:\n",
    "    whole = json.load(f)"
   ]
  },
  {
   "cell_type": "code",
   "execution_count": 4,
   "metadata": {},
   "outputs": [],
   "source": [
    "# Data for new file\n",
    "to_dump = []"
   ]
  },
  {
   "cell_type": "code",
   "execution_count": 5,
   "metadata": {},
   "outputs": [],
   "source": [
    "counter = 0\n",
    "for paragraph in whole['data']:\n",
    "    for paragraph in paragraph['paragraphs']:\n",
    "        for qas in paragraph['qas']:\n",
    "#             for question in qas['question']:\n",
    "#             counter+=1\n",
    "            to_append = {\n",
    "                \"ID\": qas['id'],\n",
    "                \"context\": paragraph['context'],\n",
    "                \"question\": qas['question'],\n",
    "                \"answer\": qas['answers'][0]['text'],\n",
    "                \"type\": \"factoid\"\n",
    "            }\n",
    "            to_dump.append(to_append)\n",
    "for_file = {\n",
    "    \"questions\": to_dump\n",
    "}\n",
    "# print(counter)"
   ]
  },
  {
   "cell_type": "code",
   "execution_count": 6,
   "metadata": {},
   "outputs": [],
   "source": [
    "with open(f\"{basepath}{file.split('.')[0]}_BioASQ.json\", \"w\") as f:\n",
    "    json.dump(for_file, f, indent=4, ensure_ascii=False)"
   ]
  },
  {
   "cell_type": "code",
   "execution_count": null,
   "metadata": {},
   "outputs": [],
   "source": []
  }
 ],
 "metadata": {
  "kernelspec": {
   "display_name": "Python 3 (ipykernel)",
   "language": "python",
   "name": "python3"
  },
  "language_info": {
   "codemirror_mode": {
    "name": "ipython",
    "version": 3
   },
   "file_extension": ".py",
   "mimetype": "text/x-python",
   "name": "python",
   "nbconvert_exporter": "python",
   "pygments_lexer": "ipython3",
   "version": "3.10.8"
  }
 },
 "nbformat": 4,
 "nbformat_minor": 2
}
