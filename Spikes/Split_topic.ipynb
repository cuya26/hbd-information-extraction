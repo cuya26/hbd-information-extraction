{
 "cells": [
  {
   "cell_type": "code",
   "execution_count": 52,
   "metadata": {},
   "outputs": [],
   "source": [
    "import json\n",
    "from transformers import pipeline"
   ]
  },
  {
   "cell_type": "code",
   "execution_count": 18,
   "metadata": {},
   "outputs": [],
   "source": [
    "my_file = '../Annotations/HBD_discharge_letters_docs/Doc_001.json'"
   ]
  },
  {
   "cell_type": "code",
   "execution_count": 38,
   "metadata": {},
   "outputs": [],
   "source": [
    "with open(my_file) as f:\n",
    "    whole = json.load(f)\n",
    "my_text = whole['data'][0]['paragraphs'][0]['context']"
   ]
  },
  {
   "cell_type": "code",
   "execution_count": 40,
   "metadata": {},
   "outputs": [],
   "source": [
    "# print(my_text)"
   ]
  },
  {
   "cell_type": "code",
   "execution_count": 42,
   "metadata": {},
   "outputs": [],
   "source": [
    "from spacy.lang.it import Italian \n",
    "\n",
    "nlp = Italian()\n",
    "nlp.add_pipe('sentencizer')\n",
    "\n",
    "def split_in_sentences(text):\n",
    "    doc = nlp(text)\n",
    "    return [str(sent).strip() for sent in doc.sents]"
   ]
  },
  {
   "cell_type": "code",
   "execution_count": 43,
   "metadata": {},
   "outputs": [],
   "source": [
    "my_paragraphs = split_in_sentences(my_text)"
   ]
  },
  {
   "cell_type": "code",
   "execution_count": 48,
   "metadata": {},
   "outputs": [],
   "source": [
    "# for i, par in enumerate(my_paragraphs):\n",
    "#     print('+'*50)\n",
    "#     print(f'Paragraph number {i}:\\n\"{par}\"')"
   ]
  },
  {
   "cell_type": "code",
   "execution_count": 49,
   "metadata": {},
   "outputs": [],
   "source": [
    "candidate_labels = [\n",
    "    'Qual è la condizione patologica?',\n",
    "    'Quali farmaci sono prescritti alla dimissione?',\n",
    "    'Quali sono le procedure chirurgiche applicate?',\n",
    "    'Dati sociodemografici',\n",
    "    'Varie'\n",
    "]"
   ]
  },
  {
   "cell_type": "code",
   "execution_count": 53,
   "metadata": {},
   "outputs": [
    {
     "data": {
      "application/vnd.jupyter.widget-view+json": {
       "model_id": "f235c5f5d5e84d5b98e6458fd49285cd",
       "version_major": 2,
       "version_minor": 0
      },
      "text/plain": [
       "Downloading:   0%|          | 0.00/1.09k [00:00<?, ?B/s]"
      ]
     },
     "metadata": {},
     "output_type": "display_data"
    },
    {
     "data": {
      "application/vnd.jupyter.widget-view+json": {
       "model_id": "45ca9e20b02b4ab28cdfada234128f18",
       "version_major": 2,
       "version_minor": 0
      },
      "text/plain": [
       "Downloading:   0%|          | 0.00/558M [00:00<?, ?B/s]"
      ]
     },
     "metadata": {},
     "output_type": "display_data"
    },
    {
     "data": {
      "application/vnd.jupyter.widget-view+json": {
       "model_id": "4a27d668f4f7475889d4367931328691",
       "version_major": 2,
       "version_minor": 0
      },
      "text/plain": [
       "Downloading:   0%|          | 0.00/467 [00:00<?, ?B/s]"
      ]
     },
     "metadata": {},
     "output_type": "display_data"
    },
    {
     "data": {
      "application/vnd.jupyter.widget-view+json": {
       "model_id": "ef2c10467f27494696cdeeb5edf90f68",
       "version_major": 2,
       "version_minor": 0
      },
      "text/plain": [
       "Downloading:   0%|          | 0.00/4.31M [00:00<?, ?B/s]"
      ]
     },
     "metadata": {},
     "output_type": "display_data"
    },
    {
     "data": {
      "application/vnd.jupyter.widget-view+json": {
       "model_id": "e34c9f6b323e4e579146409035c35eca",
       "version_major": 2,
       "version_minor": 0
      },
      "text/plain": [
       "Downloading:   0%|          | 0.00/16.3M [00:00<?, ?B/s]"
      ]
     },
     "metadata": {},
     "output_type": "display_data"
    },
    {
     "data": {
      "application/vnd.jupyter.widget-view+json": {
       "model_id": "9dee0b9a65cd4e428b461e41a1b37be2",
       "version_major": 2,
       "version_minor": 0
      },
      "text/plain": [
       "Downloading:   0%|          | 0.00/23.0 [00:00<?, ?B/s]"
      ]
     },
     "metadata": {},
     "output_type": "display_data"
    },
    {
     "data": {
      "application/vnd.jupyter.widget-view+json": {
       "model_id": "d61655a11be84e12af216fb8a5d72f81",
       "version_major": 2,
       "version_minor": 0
      },
      "text/plain": [
       "Downloading:   0%|          | 0.00/173 [00:00<?, ?B/s]"
      ]
     },
     "metadata": {},
     "output_type": "display_data"
    }
   ],
   "source": [
    "# Define pipeline to check topic\n",
    "classifier = pipeline(\n",
    "    \"zero-shot-classification\",\n",
    "    model=\"MoritzLaurer/mDeBERTa-v3-base-xnli-multilingual-nli-2mil7\"\n",
    ")"
   ]
  },
  {
   "cell_type": "code",
   "execution_count": 61,
   "metadata": {},
   "outputs": [],
   "source": [
    "# for i, par in enumerate(my_paragraphs[:3]):\n",
    "#     print('+'*50)\n",
    "#     print(f'Paragraph number {i}:\\n\"{par}\"')\n",
    "#     result = classifier(par, candidate_labels, multi_label=True)\n",
    "#     print(result)"
   ]
  },
  {
   "cell_type": "code",
   "execution_count": 55,
   "metadata": {},
   "outputs": [
    {
     "data": {
      "text/plain": [
       "{'sequence': 'Attualmente sintomatica con dispnea per sforzi lievi.',\n",
       " 'labels': ['Qual è la condizione patologica?',\n",
       "  'Varie',\n",
       "  'Quali sono le procedure chirurgiche applicate?',\n",
       "  'Dati sociodemografici',\n",
       "  'Quali farmaci sono prescritti alla dimissione?'],\n",
       " 'scores': [0.8179078698158264,\n",
       "  0.32673096656799316,\n",
       "  0.10352256894111633,\n",
       "  0.05109238624572754,\n",
       "  0.04657277464866638]}"
      ]
     },
     "execution_count": 55,
     "metadata": {},
     "output_type": "execute_result"
    }
   ],
   "source": [
    "result"
   ]
  },
  {
   "cell_type": "code",
   "execution_count": 58,
   "metadata": {},
   "outputs": [],
   "source": [
    "index = result['scores'].index(max(result['scores']))"
   ]
  },
  {
   "cell_type": "code",
   "execution_count": 60,
   "metadata": {},
   "outputs": [],
   "source": [
    "def get_top_topic(pipeline_result):\n",
    "    index = pipeline_result['scores'].index(max(pipeline_result['scores']))\n",
    "    topic = pipeline_result['labels'][index]\n",
    "    return topic"
   ]
  },
  {
   "cell_type": "code",
   "execution_count": 63,
   "metadata": {},
   "outputs": [
    {
     "name": "stdout",
     "output_type": "stream",
     "text": [
      "++++++++++++++++++++++++++++++++++++++++++++++++++\n",
      "Paragraph number 0:\n",
      "\"LETTERA DI DIMISSIONE \n",
      " \n",
      "Sig.ra  (nata il )\n",
      "PSD001   \n",
      " \n",
      "San Donato Milanese, Milano,  28.07.2021 \n",
      "Alla cortese attenzione \n",
      "del Medico Curante \n",
      " \n",
      " \n",
      "Alla cortese attenzione  \n",
      "Etichetta paziente \n",
      "Ai Colleghi della  \n",
      "Divisione di Cardiologia Riabilitativa \n",
      "Aosta \n",
      " \n",
      " \n",
      "Viene dimessa in data odierna la Sig.ra PSD001, di anni 74, ricoverata presso la nostra Unità Operativa \n",
      "in data 19.07.2021.\"\n",
      "--------------------------------------------------\n",
      "\n",
      "TOPIC = \"Quali sono le procedure chirurgiche applicate?\"\n",
      "++++++++++++++++++++++++++++++++++++++++++++++++++\n",
      "Paragraph number 1:\n",
      "\"DIAGNOSI DI DIMISSIONE \n",
      "STENOSI VALVOLARE AORTICA SEVERA SOTTOPOSTA AD INTERVENTO DI SOSTITUZIONE \n",
      "VALVOLARE  AORTICA  CON  BIOPROTESI  SUTURELESS  EDWARDS  INTUITY  N°  21  IN \n",
      "MINISTERNOTOMIA \n",
      " \n",
      "ANAMNESI CARDIOLOGICA \n",
      "FdR CV: dislipidemia, ipertensione arteriosa \n",
      " \n",
      "MDR: stenosi valvolare aortica severa \n",
      " \n",
      "Storia cardiologica: Da circa 5 mesi riferisce affaticabilità per cui esegue ecocardio che mostra stenosi \n",
      "valvolare aortica severa con grad medio 58 mmHg, con buona contrattilità del vsx.\"\n",
      "--------------------------------------------------\n",
      "\n",
      "TOPIC = \"Qual è la condizione patologica?\"\n",
      "++++++++++++++++++++++++++++++++++++++++++++++++++\n",
      "Paragraph number 2:\n",
      "\"Attualmente sintomatica con dispnea per sforzi lievi.\"\n",
      "--------------------------------------------------\n",
      "\n",
      "TOPIC = \"Qual è la condizione patologica?\"\n"
     ]
    }
   ],
   "source": [
    "for i, par in enumerate(my_paragraphs[:3]):\n",
    "    print('+'*50)\n",
    "    print(f'Paragraph number {i}:\\n\"{par}\"')\n",
    "    topic = get_top_topic(classifier(par, candidate_labels, multi_label=True))\n",
    "    print('-'*50)\n",
    "    print(f'\\nTOPIC = \"{topic}\"')"
   ]
  },
  {
   "cell_type": "code",
   "execution_count": null,
   "metadata": {},
   "outputs": [],
   "source": []
  }
 ],
 "metadata": {
  "kernelspec": {
   "display_name": "Python 3 (ipykernel)",
   "language": "python",
   "name": "python3"
  },
  "language_info": {
   "codemirror_mode": {
    "name": "ipython",
    "version": 3
   },
   "file_extension": ".py",
   "mimetype": "text/x-python",
   "name": "python",
   "nbconvert_exporter": "python",
   "pygments_lexer": "ipython3",
   "version": "3.10.8"
  }
 },
 "nbformat": 4,
 "nbformat_minor": 2
}
