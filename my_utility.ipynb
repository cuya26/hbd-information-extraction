{
 "cells": [
  {
   "cell_type": "markdown",
   "metadata": {},
   "source": [
    "This module contains utility stuff, like functions used to calculate scores and so on."
   ]
  },
  {
   "cell_type": "markdown",
   "metadata": {},
   "source": [
    "# Functions"
   ]
  },
  {
   "cell_type": "code",
   "execution_count": 1,
   "metadata": {},
   "outputs": [],
   "source": [
    "# Extract data from json and organized them in a more readable way\n",
    "def get_annotations_data(file):\n",
    "    '''INPUT\n",
    "    - file = path of the annotation file, format expected .json'''\n",
    "    counter = 0\n",
    "    try:\n",
    "        with open(file) as f:\n",
    "            whole = json.load(f)\n",
    "        triplets = []\n",
    "        for i, doc in enumerate(whole['data']):\n",
    "            to_append = {}\n",
    "            for j, par in enumerate(doc['paragraphs']):\n",
    "                # Extract paragraph\n",
    "                paragraph = par['qas']\n",
    "                # Sort paragraph by question index\n",
    "                paragraph_sort = sorted(paragraph, key=lambda d: int(d['question'][:3])) \n",
    "                to_append['context'] = par['context']\n",
    "                for k, qas in enumerate(paragraph_sort):\n",
    "                    to_append[f'question_{counter}'] = qas['question'][4:]\n",
    "                    to_append[f'question_{counter}_ID'] = qas['id']\n",
    "                    try: # Answer exists\n",
    "                        to_append[f'answer_{counter}'] = qas['answers'][0]['text']\n",
    "                    except: # Answer does not exist\n",
    "                        to_append[f'answer_{counter}'] = ''\n",
    "                    counter+=1\n",
    "            triplets.append(to_append)\n",
    "        return triplets, paragraph_sort\n",
    "    except:\n",
    "        print('Error while loading data from file!')"
   ]
  },
  {
   "cell_type": "code",
   "execution_count": null,
   "metadata": {},
   "outputs": [],
   "source": []
  }
 ],
 "metadata": {
  "kernelspec": {
   "display_name": "Python 3 (ipykernel)",
   "language": "python",
   "name": "python3"
  },
  "language_info": {
   "codemirror_mode": {
    "name": "ipython",
    "version": 3
   },
   "file_extension": ".py",
   "mimetype": "text/x-python",
   "name": "python",
   "nbconvert_exporter": "python",
   "pygments_lexer": "ipython3",
   "version": "3.10.8"
  }
 },
 "nbformat": 4,
 "nbformat_minor": 2
}
