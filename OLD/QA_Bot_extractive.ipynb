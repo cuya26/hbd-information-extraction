{
 "cells": [
  {
   "cell_type": "code",
   "execution_count": 1,
   "metadata": {},
   "outputs": [],
   "source": [
    "%config Completer.use_jedi = False"
   ]
  },
  {
   "cell_type": "markdown",
   "metadata": {
    "id": "peT3_7NVr0IW",
    "tags": []
   },
   "source": [
    "# Setup notebook "
   ]
  },
  {
   "cell_type": "markdown",
   "metadata": {
    "tags": []
   },
   "source": [
    "## If running on Google Colab"
   ]
  },
  {
   "cell_type": "code",
   "execution_count": 2,
   "metadata": {
    "id": "_hE1Z98xsLwt"
   },
   "outputs": [],
   "source": [
    "# # Mount Drive\n",
    "# from google.colab import drive\n",
    "# drive.mount('/content/drive', force_remount=True)\n",
    "\n",
    "# # Install libraries\n",
    "# %%capture\n",
    "# !pip install datasets transformers striprtf"
   ]
  },
  {
   "cell_type": "markdown",
   "metadata": {
    "tags": []
   },
   "source": [
    "## Import libraries"
   ]
  },
  {
   "cell_type": "code",
   "execution_count": 3,
   "metadata": {
    "id": "qZTT0UtRsWQT"
   },
   "outputs": [],
   "source": [
    "from transformers import AutoTokenizer, AutoModelForQuestionAnswering, pipeline\n",
    "import torch\n",
    "from os import listdir\n",
    "from os.path import isfile, join\n",
    "from striprtf.striprtf import rtf_to_text\n",
    "import importlib\n",
    "deep_translator = importlib.import_module(\"deep_translator\")\n",
    "from deep_translator import GoogleTranslator"
   ]
  },
  {
   "cell_type": "markdown",
   "metadata": {
    "tags": []
   },
   "source": [
    "# Functions"
   ]
  },
  {
   "cell_type": "code",
   "execution_count": 4,
   "metadata": {},
   "outputs": [],
   "source": [
    "def get_answers(my_context, my_questions):\n",
    "    my_answers = []\n",
    "    for q in my_questions:\n",
    "        QA_input = {\n",
    "            'question': q,\n",
    "            'context': my_context\n",
    "        }\n",
    "        res = nlp(QA_input)\n",
    "        my_answers.append(res)\n",
    "    return my_answers"
   ]
  },
  {
   "cell_type": "code",
   "execution_count": 5,
   "metadata": {},
   "outputs": [],
   "source": [
    "def print_answers(my_context, my_questions, my_answers):\n",
    "    print('*'*50+' CONTEXT '+'*'*50)\n",
    "    print(my_context)\n",
    "    for i, (q, a) in enumerate(zip(my_questions, my_answers)):\n",
    "        print(f'********** QUESTION {i+1} **********')\n",
    "        print(f'\"{q}\"')\n",
    "        print(f'ANSWER = {a[\"answer\"]}')\n",
    "        print(f'SCORE = {\"{:.2f}\".format(a[\"score\"]*100)}%\\n')"
   ]
  },
  {
   "cell_type": "code",
   "execution_count": 6,
   "metadata": {},
   "outputs": [],
   "source": [
    "def translate_context(context, source_language, target_language):\n",
    "    if len(context)>5000:\n",
    "        new_context = 'Context too long, I will not translate it!'\n",
    "    else:\n",
    "        new_context = GoogleTranslator(source=source_language, target=target_language).translate(context)\n",
    "    return new_context"
   ]
  },
  {
   "cell_type": "markdown",
   "metadata": {
    "id": "46I7HIF6tA4_",
    "jp-MarkdownHeadingCollapsed": true,
    "tags": []
   },
   "source": [
    "# Load medical document"
   ]
  },
  {
   "cell_type": "code",
   "execution_count": 7,
   "metadata": {
    "colab": {
     "base_uri": "https://localhost:8080/"
    },
    "id": "vIbymqFPs8Dn",
    "outputId": "4900776c-4dfa-4928-932a-4f94b4622dc3"
   },
   "outputs": [],
   "source": [
    "# # Specify base_path\n",
    "# # base_path = '/content/drive/MyDrive/HealthBigData/Data/From_Giuliani_Francesco'\n",
    "# # base_path = '/content/drive/MyDrive/HealthBigData/Data/From_Boveri_Sara'\n",
    "# # Get paths of all files in base_path\n",
    "# file_names = [base_path+'/'+f for f in listdir(base_path) if isfile(join(base_path, f))]\n",
    "# #DEBUGONLY\n",
    "# print(file_names[0])\n",
    "\n",
    "# Indexes of specific condition contexts\n",
    "# Short context: 0\n",
    "\n",
    "# # Get content of specific document\n",
    "# with open(file_names[0]) as infile:\n",
    "#     content = infile.read()\n",
    "#     my_context = rtf_to_text(content)\n",
    "# print(my_context)"
   ]
  },
  {
   "cell_type": "markdown",
   "metadata": {
    "id": "HiWI5NacsoqA",
    "jp-MarkdownHeadingCollapsed": true,
    "tags": []
   },
   "source": [
    "# Get answers - italian"
   ]
  },
  {
   "cell_type": "code",
   "execution_count": 8,
   "metadata": {
    "id": "J0MW905SsmdP"
   },
   "outputs": [],
   "source": [
    "# Model from HuggingFace\n",
    "model_checkpoint = 'mrm8488/bert-italian-finedtuned-squadv1-it-alfa'"
   ]
  },
  {
   "cell_type": "code",
   "execution_count": 9,
   "metadata": {},
   "outputs": [],
   "source": [
    "# Made-up context, short\n",
    "short_context = '''\n",
    "Paziente di 70 anni, uomo. Esame eseguito d'urgenza, in condizioni basali.\n",
    "Nella profondità della sostanza bianca in sede temporo-parietale dx si apprezza fornazione\n",
    "grossolanamente rotondeggiante di circa 2 cm circondata da imponente reazione edemigena.\n",
    "Altra più minuta area ipodensa della sostanza bianca sembra apprezzarsi in sede frontale sin.\n",
    "Al momento attuale non evidenza di spandimenti emorragici intracranici.\n",
    "Strutture mediane in asse.\n",
    "Complesso ventricolare di normale ampiezza e morfologia.\n",
    "Opportuno potrebbe essere approfondimento diagnostico a conferma eventualmente con esame RM\n",
    "Pertanto si dimette il pz con i seguenti consigli:\n",
    "- Keppra 500 1 cpr per 2 volte al dì;\n",
    "- Soldesam 4 mg 1 fl im al dì  im per 15 giorni; successivamente deltacortene 25 mg 1 cpr per 2 volte al dì per 5 giorni ; successivamente 1 cpr al dì per ulteriori 5 giorni;\n",
    "- Antra da 20 mg 1 cpr / die per 20 giorni;\n",
    "- RMN encefalo fra 30 giorni e successiva rivalutazione neurologica per decidere ulteriore ed evntuale piano di trattamento. \n",
    "'''"
   ]
  },
  {
   "cell_type": "code",
   "execution_count": 10,
   "metadata": {},
   "outputs": [],
   "source": [
    "# Made-up context, long\n",
    "long_context = '''Gentile collega, si dimette il suo assistito in data: 16.06.2015\n",
    "\n",
    "con la seguente diagnosi: \n",
    "INSUFFICIENZA CARDIACA DIASTOLICA CON DILATAZIONE DELLE SEZIONI DX IN FA IN TAO IN LABILE COMPENSO (SCOMPENSO CONGESTIZIO= EDEMI DEGLI ARTI INFERIORI COSPICUI)) CON  IPERTENSIONE POLMONARE. ULCERE DA FLEBOSTASI DEGLI ARTI INFERIORI INFETTE (  PSEUDOMONAS AERUGINOSA ) . GONARTROSI SEVERA DX SOTTOPOSTA AD ARTROCENTESI. DIABETE MELLITO TIPO 2 SCOMPENSATO E COMPLICATO DA NEFROPATIA.  INSUFFICIENZA RENALE CRONICA  REGREDITA.\n",
    " \n",
    "Notizie anamnestiche: \n",
    "Paziente non tabagista, affetta da ipertensione arteriosa, diabete mellito tipo 2, fibrillazione atriale permanente in NAO. Nega allergie. A seguito di comparsa di iperpiressia poco responsiva a politerapia antibiotica (claritromicina, piperacillina/tazobactam) e dolore progressivo a livello del ginocchio dx limitante la deambulazione, giunge in PS ove esegue visita radiogramma del ginocchio dx e visita ortopedica che, in ragione di una sospetta artrite settica, consiglia il ricovero in ambiente internistico per le valutazioni e le cure del caso. \n",
    "\n",
    "Esami ematochimici alterati alla dimissione:\n",
    "Hb glicosilata 8,2; GFR: 85ml/min; Creatinina:0.7mg; Azotemia: 23.0mg,  pro-BNP: 3139.0; Microalbuminuria 60,5; Sodio 132 --> 135; glicemia 210 --> 41; Sideremia 42; Fosfatasi alcalina 110; LDH 233; Hb 12,5; pro-BNP 5103; Albumina 38,9; Alfa-1-globuline 7,1; Alfa-2-globuline 14,8; Beta-2-globuline 6,7; Gamma-globuline 44,3; VES 52; PCR: 5.18, es.tampone ulcera cutanea dx:Positivo per Pseudomonas sensibile a Ciprofloxacina; es. liquido biologico: cellule 35200, Cell. prevalenza di  polimormonucleati,,LDH: 1330.0, Prot.Tot: 5.00, es. colturale : neg. \n",
    "   \n",
    "\n",
    "Esami strumentali: \n",
    "RX DEL TORACE - RX DEL GINOCCHIO DX (4/06/2015): Marcati fenomeni gonartrosici tricompartimentali a dx. Marcata tumefazione dei tessuti molli del ginocchio dx, particolarmente evidente in sede sovrarotulea come per presenza di versamento nel recesso sinoviale sottoquadricipitale. Diffuse irregolari calcificazioni vascolari femoro-popliteo-tibio-peroneali. Osteopenia. L'esame del torace non evidenzia consolidazioni polmonari in atto di significato flogistico né falde di versamento pleurico. Immagine cardiaca ingrandita. Segni di stasi del piccolo circolo. Aorta ectasica e calcifica.\n",
    "ELETTROCARDIOGRAMMA (5/06/2015): Fibrillazione atriale a 82 bpm; BBDx quasi completo. Anomalie in parte secondarie della ripolarizzazione ventricolare. \n",
    "VISITA REUMATOLOGICA (7/06/2015): Circa 8 giorni fa' insorgenza di febbre e gonartralgia dx con tumefazione articolare. Non dolore articolare a riposo. Non febbre attualmente. EO: segni di versamento articolare del ginocchio dx, non rubor, limitazione funzionale articolazione ginocchio dx, lieve edema della gamba dx. Recente infezione ulcera gamba dx. In terapia anticoagulante. Conclusione: probabile emartro ginocchio dx in gonartrosi severa. Si consiglia: borsa di ghiaccio per 20 minuti per 2 vv/die. Riposo arti inferiori. Monitorare PCR, elettroforesi proteica ogni 5 giorni. ETG ginocchio. \n",
    "ECOCARDIOGRAMMA (10/06/2015): Esame eseguito a letto della paziente, poco collaborante. Con tali limiti si documenta: Ritmo da F.A. Ventricolo sinistro lievemente ipertrofico (spessore setto 11,4 mm), non dilatato, con funzione contrattile globale ai limiti inferiroi di norma (EF 50% circa). Dilatazioni bi-atriale, maggiore a Dx. Lieve-medio rigurgito mitralico. Lieve rigurgito aortico, in valvola sclerotica. Ventricolo Dx dilatato e lievemente ipocinetico (TAPSE 17 mm). Moderato-severa IT con PAPs stimata 25 mmHg + 15 mmHg. VCI dilatata e ipocollassante (27/20 mm). \n",
    "\n",
    "Osservazioni / Terapie effettuate: \n",
    "Nel corso della degenza la paziente è stata sottoposta ad artrocentesi ( 17.0718)  del ginocchio dx con prelievo di liquido sinoviale; sottoposta a terapia antibiotica empirica prima e poi mirata ( ATB) si è assistito a regressione della febbre e miglioramento clinico e delle ulcere cutanee degli arti inf.; inoltre sottoposta a t. diuretica ev  gli edemi degli arti inferiori sono quasi regrediti.  \n",
    "\n",
    "Trattamento a domicilio e indicazioni: \n",
    "DIETA IPOSODICA E IPOCALORICA \n",
    "    • Eucreas 50 mg/1000 mg 1 cp per 2 vv/die\n",
    "    • Baypress 20 mg - 1 cp/die\n",
    "    • Eliquis 2,5 1 cp per 2 vv/die\n",
    "    • Carvedilolo 6,25 mg - 1 cp/die\n",
    "    • Lasix 25 mg - 1 cp per 2 vv/die\n",
    "    • Luvion 50 mg - 1 cp/die \n",
    "    • Ciproxin 500 mg - 1 cp per 2 vv/die per 10 giorni\n",
    "    • Medicazione cute arto inf. dx con fitostimoline \n",
    "\n",
    "\n",
    "Esegua inoltre:\n",
    "    • Funzionalità renale, elettroforesi proteica, PCR tra 5-7 giorni circa\n",
    "    • Cons. Reumatologica +ETG ginocchio dx tra 15 giorni \n",
    "\n",
    "Controlli periodicamente la pressione arteriosa, il peso corporeo, gli esami di funzionalità renale, epatica, l'emocromo.\n",
    "'''"
   ]
  },
  {
   "cell_type": "code",
   "execution_count": 11,
   "metadata": {},
   "outputs": [],
   "source": [
    "my_questions = [\n",
    "    'Qual è la condizione patologica?',\n",
    "    'Qual è l\\'età?',\n",
    "    'Qual è il sesso?',\n",
    "    'Quali farmaci assume attualmente?',\n",
    "    'Quali sono le procedure chirurgiche applicate?',\n",
    "]"
   ]
  },
  {
   "cell_type": "code",
   "execution_count": 12,
   "metadata": {},
   "outputs": [],
   "source": [
    "nlp = pipeline('question-answering', model=model_checkpoint, tokenizer=model_checkpoint)"
   ]
  },
  {
   "cell_type": "code",
   "execution_count": 13,
   "metadata": {},
   "outputs": [],
   "source": [
    "# Define my_context\n",
    "my_context = short_context"
   ]
  },
  {
   "cell_type": "code",
   "execution_count": 14,
   "metadata": {},
   "outputs": [
    {
     "name": "stdout",
     "output_type": "stream",
     "text": [
      "**************************************************CONTEXT**************************************************\n",
      "\n",
      "Paziente di 70 anni, uomo. Esame eseguito d'urgenza, in condizioni basali.\n",
      "Nella profondità della sostanza bianca in sede temporo-parietale dx si apprezza fornazione\n",
      "grossolanamente rotondeggiante di circa 2 cm circondata da imponente reazione edemigena.\n",
      "Altra più minuta area ipodensa della sostanza bianca sembra apprezzarsi in sede frontale sin.\n",
      "Al momento attuale non evidenza di spandimenti emorragici intracranici.\n",
      "Strutture mediane in asse.\n",
      "Complesso ventricolare di normale ampiezza e morfologia.\n",
      "Opportuno potrebbe essere approfondimento diagnostico a conferma eventualmente con esame RM\n",
      "Pertanto si dimette il pz con i seguenti consigli:\n",
      "- Keppra 500 1 cpr per 2 volte al dì;\n",
      "- Soldesam 4 mg 1 fl im al dì  im per 15 giorni; successivamente deltacortene 25 mg 1 cpr per 2 volte al dì per 5 giorni ; successivamente 1 cpr al dì per ulteriori 5 giorni;\n",
      "- Antra da 20 mg 1 cpr / die per 20 giorni;\n",
      "- RMN encefalo fra 30 giorni e successiva rivalutazione neurologica per decidere ulteriore ed evntuale piano di trattamento. \n",
      "\n",
      "********** QUESTION 1 **********\n",
      "\"Qual è la condizione patologica?\"\n",
      "ANSWER = Esame eseguito d'urgenza, in condizioni basali\n",
      "SCORE = 8.29%\n",
      "\n",
      "********** QUESTION 2 **********\n",
      "\"Qual è l'età?\"\n",
      "ANSWER = 70\n",
      "SCORE = 83.69%\n",
      "\n",
      "********** QUESTION 3 **********\n",
      "\"Qual è il sesso?\"\n",
      "ANSWER = uomo\n",
      "SCORE = 82.65%\n",
      "\n",
      "********** QUESTION 4 **********\n",
      "\"Quali farmaci assume attualmente?\"\n",
      "ANSWER = deltacortene 25 mg\n",
      "SCORE = 13.89%\n",
      "\n",
      "********** QUESTION 5 **********\n",
      "\"Quali sono le procedure chirurgiche applicate?\"\n",
      "ANSWER = Esame eseguito d'urgenza\n",
      "SCORE = 86.92%\n",
      "\n"
     ]
    }
   ],
   "source": [
    "my_answers = get_answers(my_context, my_questions)\n",
    "print_answers(my_context, my_questions, my_answers)"
   ]
  },
  {
   "cell_type": "markdown",
   "metadata": {
    "id": "Tze9VlCRAn-A"
   },
   "source": [
    "# Get answers - English"
   ]
  },
  {
   "cell_type": "code",
   "execution_count": 15,
   "metadata": {
    "id": "HoLVPN8N7SSk"
   },
   "outputs": [],
   "source": [
    "# Model from HuggingFace\n",
    "model_checkpoint = 'deepset/roberta-base-squad2' # SQUAD2 multilangual model"
   ]
  },
  {
   "cell_type": "code",
   "execution_count": 16,
   "metadata": {},
   "outputs": [],
   "source": [
    "# Translate context ITA-->ENG\n",
    "eng_context = translate_context(my_context, source_language='it', target_language='en')"
   ]
  },
  {
   "cell_type": "code",
   "execution_count": 17,
   "metadata": {},
   "outputs": [],
   "source": [
    "eng_questions = []\n",
    "for q in my_questions:\n",
    "    eng_q = translate_context(q, source_language='it', target_language='en')\n",
    "    eng_questions.append(eng_q)"
   ]
  },
  {
   "cell_type": "code",
   "execution_count": 18,
   "metadata": {
    "id": "-gACHUmoBaLI"
   },
   "outputs": [],
   "source": [
    "nlp = pipeline('question-answering', model=model_checkpoint, tokenizer=model_checkpoint)"
   ]
  },
  {
   "cell_type": "code",
   "execution_count": 19,
   "metadata": {
    "id": "B__f51ALH0Az"
   },
   "outputs": [],
   "source": [
    "eng_answers = get_answers(eng_context, eng_questions)"
   ]
  },
  {
   "cell_type": "code",
   "execution_count": 20,
   "metadata": {
    "colab": {
     "base_uri": "https://localhost:8080/"
    },
    "id": "oUYfTdXXBcqG",
    "outputId": "9111b6c2-09f6-4c54-bf53-95c001f21d14"
   },
   "outputs": [],
   "source": [
    "# Translate answers ENG-->ITA\n",
    "ita_answers = []\n",
    "for a in eng_answers:\n",
    "    try:\n",
    "        a_text = translate_context(a['answer'], source_language='en', target_language='it')\n",
    "    except: # Some texts will not be translated, for example numbers\n",
    "        a_text = a['answer']\n",
    "    a_dict = {\n",
    "        'score': a['score'],\n",
    "        'answer': a_text\n",
    "    }\n",
    "    ita_answers.append(a_dict)"
   ]
  },
  {
   "cell_type": "code",
   "execution_count": 21,
   "metadata": {
    "id": "JKBmVxNQCVHc"
   },
   "outputs": [
    {
     "name": "stdout",
     "output_type": "stream",
     "text": [
      "**************************************************CONTEXT**************************************************\n",
      "\n",
      "Paziente di 70 anni, uomo. Esame eseguito d'urgenza, in condizioni basali.\n",
      "Nella profondità della sostanza bianca in sede temporo-parietale dx si apprezza fornazione\n",
      "grossolanamente rotondeggiante di circa 2 cm circondata da imponente reazione edemigena.\n",
      "Altra più minuta area ipodensa della sostanza bianca sembra apprezzarsi in sede frontale sin.\n",
      "Al momento attuale non evidenza di spandimenti emorragici intracranici.\n",
      "Strutture mediane in asse.\n",
      "Complesso ventricolare di normale ampiezza e morfologia.\n",
      "Opportuno potrebbe essere approfondimento diagnostico a conferma eventualmente con esame RM\n",
      "Pertanto si dimette il pz con i seguenti consigli:\n",
      "- Keppra 500 1 cpr per 2 volte al dì;\n",
      "- Soldesam 4 mg 1 fl im al dì  im per 15 giorni; successivamente deltacortene 25 mg 1 cpr per 2 volte al dì per 5 giorni ; successivamente 1 cpr al dì per ulteriori 5 giorni;\n",
      "- Antra da 20 mg 1 cpr / die per 20 giorni;\n",
      "- RMN encefalo fra 30 giorni e successiva rivalutazione neurologica per decidere ulteriore ed evntuale piano di trattamento. \n",
      "\n",
      "********** QUESTION 1 **********\n",
      "\"Qual è la condizione patologica?\"\n",
      "ANSWER = sanguinamento intracranico\n",
      "SCORE = 0.02%\n",
      "\n",
      "********** QUESTION 2 **********\n",
      "\"Qual è l'età?\"\n",
      "ANSWER = 70\n",
      "SCORE = 5.35%\n",
      "\n",
      "********** QUESTION 3 **********\n",
      "\"Qual è il sesso?\"\n",
      "ANSWER = maschio\n",
      "SCORE = 6.56%\n",
      "\n",
      "********** QUESTION 4 **********\n",
      "\"Quali farmaci assume attualmente?\"\n",
      "ANSWER = Keppra 500 1 compressa\n",
      "SCORE = 0.15%\n",
      "\n",
      "********** QUESTION 5 **********\n",
      "\"Quali sono le procedure chirurgiche applicate?\"\n",
      "ANSWER = Esame eseguito d'urgenza, in condizioni basali\n",
      "SCORE = 0.02%\n",
      "\n"
     ]
    }
   ],
   "source": [
    "print_answers(my_context, my_questions, ita_answers)"
   ]
  },
  {
   "cell_type": "code",
   "execution_count": null,
   "metadata": {},
   "outputs": [],
   "source": []
  }
 ],
 "metadata": {
  "colab": {
   "name": "QA_Bot_01.ipynb",
   "provenance": [],
   "toc_visible": true
  },
  "kernelspec": {
   "display_name": "Python 3",
   "language": "python",
   "name": "python3"
  },
  "language_info": {
   "codemirror_mode": {
    "name": "ipython",
    "version": 3
   },
   "file_extension": ".py",
   "mimetype": "text/x-python",
   "name": "python",
   "nbconvert_exporter": "python",
   "pygments_lexer": "ipython3",
   "version": "3.6.9"
  }
 },
 "nbformat": 4,
 "nbformat_minor": 4
}
